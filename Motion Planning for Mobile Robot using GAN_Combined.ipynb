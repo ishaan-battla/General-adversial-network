{
 "cells": [
  {
   "cell_type": "code",
   "execution_count": null,
   "metadata": {
    "_cell_guid": "b1076dfc-b9ad-4769-8c92-a6c4dae69d19",
    "_uuid": "8f2839f25d086af736a60e9eeb907d3b93b6e0e5"
   },
   "outputs": [],
   "source": [
    "# This Python 3 environment comes with many helpful analytics libraries installed\n",
    "# It is defined by the kaggle/python Docker image: https://github.com/kaggle/docker-python\n",
    "# For example, here's several helpful packages to load\n",
    "\n",
    "import numpy as np # linear algebra\n",
    "import pandas as pd # data processing, CSV file I/O (e.g. pd.read_csv)\n",
    "\n",
    "# Input data files are available in the read-only \"../input/\" directory\n",
    "# For example, running this (by clicking run or pressing Shift+Enter) will list all files under the input directory\n",
    "\n",
    "import os\n",
    "for dirname, _, filenames in os.walk('/kaggle/input'):\n",
    "    for filename in filenames:\n",
    "        print(os.path.join(dirname, filename))\n",
    "\n",
    "# You can write up to 20GB to the current directory (/kaggle/working/) that gets preserved as output when you create a version using \"Save & Run All\" \n",
    "# You can also write temporary files to /kaggle/temp/, but they won't be saved outside of the current session"
   ]
  },
  {
   "cell_type": "markdown",
   "metadata": {},
   "source": [
    "## Importing Libraries & Dataset"
   ]
  },
  {
   "cell_type": "code",
   "execution_count": 96,
   "metadata": {
    "execution": {
     "iopub.execute_input": "2022-07-02T01:22:39.442538Z",
     "iopub.status.busy": "2022-07-02T01:22:39.442110Z",
     "iopub.status.idle": "2022-07-02T01:22:39.450776Z",
     "shell.execute_reply": "2022-07-02T01:22:39.449482Z",
     "shell.execute_reply.started": "2022-07-02T01:22:39.442504Z"
    }
   },
   "outputs": [],
   "source": [
    "import numpy as np # linear algebra\n",
    "import pandas as pd # data processing\n",
    "\n",
    "from keras.layers import Input, Dense, Reshape, Flatten, Dropout\n",
    "from keras.layers import BatchNormalization\n",
    "from keras.layers.advanced_activations import LeakyReLU\n",
    "from keras.models import Sequential, Model\n",
    "from keras.optimizers import Adam\n",
    "\n",
    "from keras.utils import np_utils\n",
    "from sklearn.preprocessing import LabelEncoder\n",
    "\n",
    "import os\n",
    "import time\n",
    "from pylab import *"
   ]
  },
  {
   "cell_type": "code",
   "execution_count": 97,
   "metadata": {
    "execution": {
     "iopub.execute_input": "2022-07-02T01:22:40.072215Z",
     "iopub.status.busy": "2022-07-02T01:22:40.071782Z",
     "iopub.status.idle": "2022-07-02T01:22:40.077356Z",
     "shell.execute_reply": "2022-07-02T01:22:40.076134Z",
     "shell.execute_reply.started": "2022-07-02T01:22:40.072181Z"
    }
   },
   "outputs": [],
   "source": [
    "# Loading Data\n",
    "\n",
    "data_path = \"../input/path-planning/dataset/dataset\""
   ]
  },
  {
   "cell_type": "code",
   "execution_count": 98,
   "metadata": {
    "execution": {
     "iopub.execute_input": "2022-07-02T01:22:40.627096Z",
     "iopub.status.busy": "2022-07-02T01:22:40.626032Z",
     "iopub.status.idle": "2022-07-02T01:22:40.654300Z",
     "shell.execute_reply": "2022-07-02T01:22:40.652967Z",
     "shell.execute_reply.started": "2022-07-02T01:22:40.627059Z"
    }
   },
   "outputs": [],
   "source": [
    "sample_data = os.path.join(data_path, \"00_010.csv\")\n",
    "sample_df = pd.read_csv(sample_data, index_col=None, header=None)\n",
    "sample_df"
   ]
  },
  {
   "cell_type": "code",
   "execution_count": 99,
   "metadata": {
    "execution": {
     "iopub.execute_input": "2022-07-02T01:22:41.871675Z",
     "iopub.status.busy": "2022-07-02T01:22:41.870969Z",
     "iopub.status.idle": "2022-07-02T01:22:42.005269Z",
     "shell.execute_reply": "2022-07-02T01:22:42.003367Z",
     "shell.execute_reply.started": "2022-07-02T01:22:41.871640Z"
    }
   },
   "outputs": [],
   "source": [
    "# Visualizing Sample Data\n",
    "\n",
    "%matplotlib inline\n",
    "from matplotlib import pyplot as plt\n",
    "plt.figure(figsize = (7, 8))\n",
    "plt.imshow(sample_df.values, interpolation='nearest')\n",
    "plt.axis('off')\n",
    "plt.show()"
   ]
  },
  {
   "cell_type": "markdown",
   "metadata": {},
   "source": [
    "## Pre-processing"
   ]
  },
  {
   "cell_type": "code",
   "execution_count": 100,
   "metadata": {
    "execution": {
     "iopub.execute_input": "2022-07-02T01:22:43.764152Z",
     "iopub.status.busy": "2022-07-02T01:22:43.763769Z",
     "iopub.status.idle": "2022-07-02T01:22:43.772938Z",
     "shell.execute_reply": "2022-07-02T01:22:43.771318Z",
     "shell.execute_reply.started": "2022-07-02T01:22:43.764120Z"
    }
   },
   "outputs": [],
   "source": [
    "# Separate feature and target variable\n",
    "\n",
    "def loadData(path=data_path):\n",
    "    files = os.listdir(path)\n",
    "    data = []\n",
    "    labels = []\n",
    "    for fn in files:\n",
    "        ffn = os.path.join(path, fn)\n",
    "        df = pd.read_csv(ffn, index_col=None, header=None)\n",
    "        df[df==2]=0\n",
    "        data.append(df.values)\n",
    "        label = int(fn[0:2])\n",
    "        labels.append(label)\n",
    "    data = np.array(data) \n",
    "    return data, labels"
   ]
  },
  {
   "cell_type": "code",
   "execution_count": 101,
   "metadata": {
    "execution": {
     "iopub.execute_input": "2022-07-02T01:22:44.751537Z",
     "iopub.status.busy": "2022-07-02T01:22:44.751113Z",
     "iopub.status.idle": "2022-07-02T01:22:46.025256Z",
     "shell.execute_reply": "2022-07-02T01:22:46.024083Z",
     "shell.execute_reply.started": "2022-07-02T01:22:44.751503Z"
    }
   },
   "outputs": [],
   "source": [
    "data, labels = loadData()"
   ]
  },
  {
   "cell_type": "code",
   "execution_count": 102,
   "metadata": {
    "execution": {
     "iopub.execute_input": "2022-07-02T01:22:46.027171Z",
     "iopub.status.busy": "2022-07-02T01:22:46.026874Z",
     "iopub.status.idle": "2022-07-02T01:22:46.032959Z",
     "shell.execute_reply": "2022-07-02T01:22:46.031454Z",
     "shell.execute_reply.started": "2022-07-02T01:22:46.027142Z"
    }
   },
   "outputs": [],
   "source": [
    "print(labels)"
   ]
  },
  {
   "cell_type": "code",
   "execution_count": 103,
   "metadata": {
    "execution": {
     "iopub.execute_input": "2022-07-02T01:22:46.333881Z",
     "iopub.status.busy": "2022-07-02T01:22:46.333028Z",
     "iopub.status.idle": "2022-07-02T01:22:46.349562Z",
     "shell.execute_reply": "2022-07-02T01:22:46.348687Z",
     "shell.execute_reply.started": "2022-07-02T01:22:46.333847Z"
    }
   },
   "outputs": [],
   "source": [
    "defined_path_classes = pd.read_csv(\"../input/path-planning/pathClasses.csv\", index_col=None)\n",
    "defined_path_classes"
   ]
  },
  {
   "cell_type": "markdown",
   "metadata": {},
   "source": [
    "## Creating Collision-free trajectories using RRT"
   ]
  },
  {
   "cell_type": "code",
   "execution_count": null,
   "metadata": {},
   "outputs": [],
   "source": [
    "import random\n",
    "import math\n",
    "import pygame\n",
    "\n",
    "\n",
    "class RRTMap:\n",
    "    def __init__(self, start, goal, MapDimensions, obsdim, obsnum):\n",
    "        self.start = start\n",
    "        self.goal = goal\n",
    "        self.MapDimensions = MapDimensions\n",
    "        self.Maph, self.Mapw = self.MapDimensions\n",
    "\n",
    "        # window settings\n",
    "        self.MapWindowName = 'RRT path planning'\n",
    "        pygame.display.set_caption(self.MapWindowName)\n",
    "        self.map = pygame.display.set_mode((self.Mapw, self.Maph))\n",
    "        self.map.fill((255, 255, 255))\n",
    "        self.nodeRad = 2\n",
    "        self.nodeThickness = 0\n",
    "        self.edgeThickness = 1\n",
    "\n",
    "        self.obstacles = []\n",
    "        self.obsdim = obsdim\n",
    "        self.obsNumber = obsnum\n",
    "\n",
    "        # Colors\n",
    "        self.grey = (70, 70, 70)\n",
    "        self.Blue = (0, 0, 255)\n",
    "        self.Green = (0, 255, 0)\n",
    "        self.Red = (255, 0, 0)\n",
    "        self.white = (255, 255, 255)\n",
    "\n",
    "    def drawMap(self, obstacles):\n",
    "        pygame.draw.circle(self.map, self.Green, self.start, self.nodeRad + 5, 0)\n",
    "        pygame.draw.circle(self.map, self.Green, self.goal, self.nodeRad + 20, 1)\n",
    "        self.drawObs(obstacles)\n",
    "\n",
    "    def drawPath(self, path):\n",
    "        for node in path:\n",
    "            pygame.draw.circle(self.map, self.Red, node, 3, 0)\n",
    "\n",
    "    def drawObs(self, obstacles):\n",
    "        obstaclesList = obstacles.copy()\n",
    "        while (len(obstaclesList) > 0):\n",
    "            obstacle = obstaclesList.pop(0)\n",
    "            pygame.draw.rect(self.map, self.grey, obstacle)\n",
    "\n",
    "\n",
    "class RRTGraph:\n",
    "    def __init__(self, start, goal, MapDimensions, obsdim, obsnum):\n",
    "        (x, y) = start\n",
    "        self.start = start\n",
    "        self.goal = goal\n",
    "        self.goalFlag = False\n",
    "        self.maph, self.mapw = MapDimensions\n",
    "        self.x = []\n",
    "        self.y = []\n",
    "        self.parent = []\n",
    "        # initialize the tree\n",
    "        self.x.append(x)\n",
    "        self.y.append(y)\n",
    "        self.parent.append(0)\n",
    "        # the obstacles\n",
    "        self.obstacles = []\n",
    "        self.obsDim = obsdim\n",
    "        self.obsNum = obsnum\n",
    "        # path\n",
    "        self.goalstate = None\n",
    "        self.path = []\n",
    "\n",
    "    def makeRandomRect(self):\n",
    "        uppercornerx = int(random.uniform(0, self.mapw - self.obsDim))\n",
    "        uppercornery = int(random.uniform(0, self.maph - self.obsDim))\n",
    "\n",
    "        return (uppercornerx, uppercornery)\n",
    "\n",
    "    def makeobs(self):\n",
    "        obs = []\n",
    "        for i in range(0, self.obsNum):\n",
    "            rectang = None\n",
    "            startgoalcol = True\n",
    "            while startgoalcol:\n",
    "                upper = self.makeRandomRect()\n",
    "                rectang = pygame.Rect(upper, (self.obsDim, self.obsDim))\n",
    "                if rectang.collidepoint(self.start) or rectang.collidepoint(self.goal):\n",
    "                    startgoalcol = True\n",
    "                else:\n",
    "                    startgoalcol = False\n",
    "            obs.append(rectang)\n",
    "        self.obstacles = obs.copy()\n",
    "        return obs\n",
    "\n",
    "    def add_node(self, n, x, y):\n",
    "        self.x.insert(n, x)\n",
    "        self.y.append(y)\n",
    "\n",
    "    def remove_node(self, n):\n",
    "        self.x.pop(n)\n",
    "        self.y.pop(n)\n",
    "\n",
    "    def add_edge(self, parent, child):\n",
    "        self.parent.insert(child, parent)\n",
    "\n",
    "    def remove_edge(self, n):\n",
    "        self.parent.pop(n)\n",
    "\n",
    "    def number_of_nodes(self):\n",
    "        return len(self.x)\n",
    "\n",
    "    def distance(self, n1, n2):\n",
    "        (x1, y1) = (self.x[n1], self.y[n1])\n",
    "        (x2, y2) = (self.x[n2], self.y[n2])\n",
    "        px = (float(x1) - float(x2)) ** 2\n",
    "        py = (float(y1) - float(y2)) ** 2\n",
    "        return (px + py) ** (0.5)\n",
    "\n",
    "    def sample_envir(self):\n",
    "        x = int(random.uniform(0, self.mapw))\n",
    "        y = int(random.uniform(0, self.maph))\n",
    "        return x, y\n",
    "\n",
    "    def nearest(self, n):\n",
    "        dmin = self.distance(0, n)\n",
    "        nnear = 0\n",
    "        for i in range(0, n):\n",
    "            if self.distance(i, n) < dmin:\n",
    "                dmin = self.distance(i, n)\n",
    "                nnear = i\n",
    "        return nnear\n",
    "\n",
    "    def isFree(self):\n",
    "        n = self.number_of_nodes() - 1\n",
    "        (x, y) = (self.x[n], self.y[n])\n",
    "        obs = self.obstacles.copy()\n",
    "        while len(obs) > 0:\n",
    "            rectang = obs.pop(0)\n",
    "            if rectang.collidepoint(x, y):\n",
    "                self.remove_node(n)\n",
    "                return False\n",
    "        return True\n",
    "\n",
    "    def crossObstacle(self, x1, x2, y1, y2):\n",
    "        obs = self.obstacles.copy()\n",
    "        while (len(obs) > 0):\n",
    "            rectang = obs.pop(0)\n",
    "            for i in range(0, 101):\n",
    "                u = i / 100\n",
    "                x = x1 * u + x2 * (1 - u)\n",
    "                y = y1 * u + y2 * (1 - u)\n",
    "                if rectang.collidepoint(x, y):\n",
    "                    return True\n",
    "        return False\n",
    "\n",
    "    def connect(self, n1, n2):\n",
    "        (x1, y1) = (self.x[n1], self.y[n1])\n",
    "        (x2, y2) = (self.x[n2], self.y[n2])\n",
    "        if self.crossObstacle(x1, x2, y1, y2):\n",
    "            self.remove_node(n2)\n",
    "            return False\n",
    "        else:\n",
    "            self.add_edge(n1, n2)\n",
    "            return True\n",
    "\n",
    "    def step(self, nnear, nrand, dmax=35):\n",
    "        d = self.distance(nnear, nrand)\n",
    "        if d > dmax:\n",
    "            u = dmax / d\n",
    "            (xnear, ynear) = (self.x[nnear], self.y[nnear])\n",
    "            (xrand, yrand) = (self.x[nrand], self.y[nrand])\n",
    "            (px, py) = (xrand - xnear, yrand - ynear)\n",
    "            theta = math.atan2(py, px)\n",
    "            (x, y) = (int(xnear + dmax * math.cos(theta)),\n",
    "                      int(ynear + dmax * math.sin(theta)))\n",
    "            self.remove_node(nrand)\n",
    "            if abs(x - self.goal[0]) <= dmax and abs(y - self.goal[1]) <= dmax:\n",
    "                self.add_node(nrand, self.goal[0], self.goal[1])\n",
    "                self.goalstate = nrand\n",
    "                self.goalFlag = True\n",
    "            else:\n",
    "                self.add_node(nrand, x, y)\n",
    "\n",
    "    def bias(self, ngoal):\n",
    "        n = self.number_of_nodes()\n",
    "        self.add_node(n, ngoal[0], ngoal[1])\n",
    "        nnear = self.nearest(n)\n",
    "        self.step(nnear, n)\n",
    "        self.connect(nnear, n)\n",
    "        return self.x, self.y, self.parent\n",
    "\n",
    "    def expand(self):\n",
    "        n = self.number_of_nodes()\n",
    "        x, y = self.sample_envir()\n",
    "        self.add_node(n, x, y)\n",
    "        if self.isFree():\n",
    "            xnearest = self.nearest(n)\n",
    "            self.step(xnearest, n)\n",
    "            self.connect(xnearest, n)\n",
    "        return self.x, self.y, self.parent\n",
    "\n",
    "    def path_to_goal(self):\n",
    "        if self.goalFlag:\n",
    "            self.path = []\n",
    "            self.path.append(self.goalstate)\n",
    "            newpos = self.parent[self.goalstate]\n",
    "            while (newpos != 0):\n",
    "                self.path.append(newpos)\n",
    "                newpos = self.parent[newpos]\n",
    "            self.path.append(0)\n",
    "        return self.goalFlag\n",
    "\n",
    "    def getPathCoords(self):\n",
    "        pathCoords = []\n",
    "        for node in self.path:\n",
    "            x, y = (self.x[node], self.y[node])\n",
    "            pathCoords.append((x, y))\n",
    "        return pathCoords\n",
    "\n",
    "    def cost(self, n):\n",
    "        ninit = 0\n",
    "        n = n\n",
    "        parent = self.parent[n]\n",
    "        c = 0\n",
    "        while n is not ninit:\n",
    "            c = c + self.distance(n, parent)\n",
    "            n = parent\n",
    "            if n is not ninit:\n",
    "                parent = self.parent[n]\n",
    "        return c\n",
    "\n",
    "    def getTrueObs(self, obs):\n",
    "        TOBS = []\n",
    "        for ob in obs:\n",
    "            TOBS.append(ob.inflate(-50, -50))\n",
    "        return TOBS\n",
    "\n",
    "    def waypoints2path(self):\n",
    "        oldpath = self.getPathCoords()\n",
    "        path = []\n",
    "        for i in range(0, len(self.path) - 1):\n",
    "            print(i)\n",
    "            if i >= len(self.path):\n",
    "                break\n",
    "            x1, y1 = oldpath[i]\n",
    "            x2, y2 = oldpath[i + 1]\n",
    "            print('---------')\n",
    "            print((x1, y1), (x2, y2))\n",
    "            for i in range(0, 5):\n",
    "                u = i / 5\n",
    "                x = int(x2 * u + x1 * (1 - u))\n",
    "                y = int(y2 * u + y1 * (1 - u))\n",
    "                path.append((x, y))\n",
    "                print((x, y))\n",
    "\n",
    "        return path\n",
    "\n",
    "\n",
    "\n",
    "def makeRandomRect(self):\n",
    "    uppercornerx = int(random.uniform(0, self.mapw - self.obsDim))\n",
    "    uppercornery = int(random.uniform(0, self.maph - self.obsDim))\n",
    "    return (uppercornerx, uppercornery)\n",
    "\n",
    "def makeobs(self):\n",
    "    obs = []\n",
    "    for i in range(0, self.obsNum):\n",
    "        rectang = None\n",
    "        startgoalcol = True\n",
    "        while startgoalcol:\n",
    "            upper = self.makeRandomRect()\n",
    "            rectang = pygame.Rect(upper, (self.obsDim, self.obsDim))\n",
    "            if rectang.collidepoint(self.start) or rectang.collidepoint(self.goal):\n",
    "                startgoalcol = True\n",
    "            else:\n",
    "                startgoalcol = False\n",
    "            obs.append(rectang)\n",
    "        self.obstacles = obs.copy()\n",
    "    return obs\n",
    "\n",
    "\n",
    "\n",
    "import time\n",
    "\n",
    "def main():\n",
    "    dimensions =(512,512)\n",
    "    start=(50,50)\n",
    "    goal=(300,300)\n",
    "    obsdim=30\n",
    "    obsnum=50\n",
    "    iteration=0\n",
    "    t1=0\n",
    "\n",
    "    pygame.init()\n",
    "    map=RRTMap(start,goal,dimensions,obsdim,obsnum)\n",
    "    graph=RRTGraph(start,goal,dimensions,obsdim,obsnum)\n",
    "\n",
    "    obstacles=graph.makeobs()\n",
    "    map.drawMap(obstacles)\n",
    "\n",
    "    t1=time.time()\n",
    "    while (not graph.path_to_goal()):\n",
    "        time.sleep(0.005)\n",
    "        elapsed=time.time()-t1\n",
    "        t1=time.time()\n",
    "        #raise exception if timeout\n",
    "        if elapsed > 10:\n",
    "            print('timeout re-initiating the calculations')\n",
    "            raise\n",
    "\n",
    "        if iteration % 10 == 0:\n",
    "            X, Y, Parent = graph.bias(goal)\n",
    "            pygame.draw.circle(map.map, map.grey, (X[-1], Y[-1]), map.nodeRad*2, 0)\n",
    "            pygame.draw.line(map.map, map.Blue, (X[-1], Y[-1]), (X[Parent[-1]], Y[Parent[-1]]),\n",
    "                             map.edgeThickness)\n",
    "\n",
    "        else:\n",
    "            X, Y, Parent = graph.expand()\n",
    "            pygame.draw.circle(map.map, map.grey, (X[-1], Y[-1]), map.nodeRad*2, 0)\n",
    "            pygame.draw.line(map.map, map.Blue, (X[-1], Y[-1]), (X[Parent[-1]], Y[Parent[-1]]),\n",
    "                             map.edgeThickness)\n",
    "\n",
    "        if iteration % 5 == 0:\n",
    "            pygame.display.update()\n",
    "        iteration += 1\n",
    "    map.drawPath(graph.getPathCoords())\n",
    "    pygame.display.update()\n",
    "    pygame.event.clear()\n",
    "    pygame.event.wait(0)\n",
    "\n",
    "\n",
    "\n",
    "if __name__ == '__main__':\n",
    "    result=False\n",
    "    while not result:\n",
    "        try:\n",
    "            main()\n",
    "            result=True\n",
    "        except:\n",
    "            result=False\n"
   ]
  },
  {
   "cell_type": "markdown",
   "metadata": {},
   "source": [
    "## Model Building"
   ]
  },
  {
   "cell_type": "code",
   "execution_count": 104,
   "metadata": {
    "execution": {
     "iopub.execute_input": "2022-07-02T01:22:48.043743Z",
     "iopub.status.busy": "2022-07-02T01:22:48.043312Z",
     "iopub.status.idle": "2022-07-02T01:22:48.069876Z",
     "shell.execute_reply": "2022-07-02T01:22:48.068475Z",
     "shell.execute_reply.started": "2022-07-02T01:22:48.043707Z"
    }
   },
   "outputs": [],
   "source": [
    "# Creating GAN class\n",
    "\n",
    "class GAN():\n",
    "    def __init__(self, img_rows=19, img_cols=13, channels=1):\n",
    "        self.img_rows = img_rows\n",
    "        self.img_cols = img_cols\n",
    "        self.channels = channels\n",
    "        self.img_shape = (self.img_rows, self.img_cols, self.channels)\n",
    "\n",
    "        optimizer = Adam(0.0002, 0.5)\n",
    "\n",
    "        # Build and compile the discriminator\n",
    "        self.discriminator = self.build_discriminator()\n",
    "        self.discriminator.compile(loss='binary_crossentropy',\n",
    "                                   optimizer=optimizer,\n",
    "                                   metrics=['accuracy'])\n",
    "\n",
    "        # Build and compile the generator\n",
    "        self.generator = self.build_generator()\n",
    "        self.generator.compile(loss='binary_crossentropy', optimizer=optimizer)\n",
    "\n",
    "        # The generator takes noise as input and generated imgs\n",
    "        z = Input(shape=(100,))\n",
    "        img = self.generator(z)\n",
    "\n",
    "        # For the combined model we will only train the generator\n",
    "        self.discriminator.trainable = False\n",
    "\n",
    "        # The valid takes generated images as input and determines validity\n",
    "        valid = self.discriminator(img)\n",
    "\n",
    "        # The combined model  (stacked generator and discriminator) takes\n",
    "        # noise as input => generates images => determines validity \n",
    "        self.combined = Model(z, valid)\n",
    "        self.combined.compile(loss='binary_crossentropy', optimizer=optimizer)\n",
    "\n",
    "    def build_generator(self):\n",
    "\n",
    "        noise_shape = (100,)\n",
    "\n",
    "        model = Sequential()\n",
    "\n",
    "        model.add(Dense(256, input_shape=noise_shape))\n",
    "        model.add(LeakyReLU(alpha=0.2))\n",
    "        model.add(BatchNormalization(momentum=0.7))\n",
    "        model.add(Dense(512))\n",
    "        model.add(LeakyReLU(alpha=0.2))\n",
    "        model.add(BatchNormalization(momentum=0.8))\n",
    "        model.add(Dense(1024))\n",
    "        model.add(LeakyReLU(alpha=0.2))\n",
    "        model.add(BatchNormalization(momentum=0.8))\n",
    "        model.add(Dense(np.prod(self.img_shape), activation='tanh'))\n",
    "        model.add(Reshape(self.img_shape))\n",
    "\n",
    "        model.summary()\n",
    "\n",
    "        noise = Input(shape=noise_shape)\n",
    "        img = model(noise)\n",
    "\n",
    "        return Model(noise, img)\n",
    "\n",
    "    def build_discriminator(self):\n",
    "\n",
    "        img_shape = (self.img_rows, self.img_cols, self.channels)\n",
    "\n",
    "        model = Sequential()\n",
    "\n",
    "        model.add(Flatten(input_shape=img_shape))\n",
    "        model.add(Dense(512))\n",
    "        model.add(LeakyReLU(alpha=0.2))\n",
    "        model.add(Dense(256))\n",
    "        model.add(LeakyReLU(alpha=0.2))\n",
    "        model.add(Dense(1, activation='sigmoid'))\n",
    "        model.summary()\n",
    "\n",
    "        img = Input(shape=img_shape)\n",
    "        validity = model(img)\n",
    "\n",
    "        return Model(img, validity)\n",
    "\n",
    "    def train(self, X_train, y_, epochs=1000, batch_size=2):\n",
    "\n",
    "        X_train = 2 * (X_train.astype(np.float32)) - 1\n",
    "        X_train = np.expand_dims(X_train, axis=3)\n",
    "        half_batch = int(batch_size / 2)\n",
    "\n",
    "        for epoch in range(epochs):\n",
    "\n",
    "            # ---------------------\n",
    "            #  Train Discriminator\n",
    "            # ---------------------\n",
    "\n",
    "            # Select a random half batch of images\n",
    "            idx = np.random.randint(0, X_train.shape[0], half_batch)\n",
    "            imgs = X_train[idx]\n",
    "\n",
    "            noise = np.random.normal(0, 1, (half_batch, 100))\n",
    "\n",
    "            # Generate a half batch of new images\n",
    "            gen_imgs = self.generator.predict(noise)\n",
    "\n",
    "            # Train the discriminator\n",
    "            d_loss_real = self.discriminator.train_on_batch(imgs, np.ones((half_batch, 1)))\n",
    "            d_loss_fake = self.discriminator.train_on_batch(gen_imgs, np.zeros((half_batch, 1)))\n",
    "            d_loss = 0.5 * np.add(d_loss_real, d_loss_fake)\n",
    "\n",
    "            # ---------------------\n",
    "            #  Train Generator\n",
    "            # ---------------------\n",
    "\n",
    "            noise = np.random.normal(0, 1, (batch_size, 100))\n",
    "\n",
    "            # The generator wants the discriminator to label the generated samples as valid (ones)\n",
    "            valid_y = np.array([1] * batch_size)\n",
    "\n",
    "            # Train the generator\n",
    "            g_loss = self.combined.train_on_batch(noise, valid_y)"
   ]
  },
  {
   "cell_type": "code",
   "execution_count": 105,
   "metadata": {
    "execution": {
     "iopub.execute_input": "2022-07-02T01:22:49.931300Z",
     "iopub.status.busy": "2022-07-02T01:22:49.930356Z",
     "iopub.status.idle": "2022-07-02T01:24:20.356127Z",
     "shell.execute_reply": "2022-07-02T01:24:20.354779Z",
     "shell.execute_reply.started": "2022-07-02T01:22:49.931261Z"
    }
   },
   "outputs": [],
   "source": [
    "# Training GAN\n",
    "\n",
    "gan = GAN()\n",
    "start_time = time.time()\n",
    "gan.train(data, labels, epochs=1000, batch_size=8)\n",
    "print(\"total training time: %s seconds ---\" % (time.time() - start_time))"
   ]
  },
  {
   "cell_type": "code",
   "execution_count": 106,
   "metadata": {
    "execution": {
     "iopub.execute_input": "2022-07-02T01:24:26.823523Z",
     "iopub.status.busy": "2022-07-02T01:24:26.822511Z",
     "iopub.status.idle": "2022-07-02T01:24:26.831675Z",
     "shell.execute_reply": "2022-07-02T01:24:26.830241Z",
     "shell.execute_reply.started": "2022-07-02T01:24:26.823469Z"
    }
   },
   "outputs": [],
   "source": [
    "gen_samples_row, gen_samples_col = 3,4\n",
    "count = gen_samples_row*gen_samples_col\n",
    "noise = np.random.normal(0, 1, (count, 100))\n",
    "print(noise.shape)"
   ]
  },
  {
   "cell_type": "markdown",
   "metadata": {},
   "source": [
    "*Generate 12 paths from noise vectors of size 100.*"
   ]
  },
  {
   "cell_type": "code",
   "execution_count": 107,
   "metadata": {
    "execution": {
     "iopub.execute_input": "2022-07-02T01:24:28.361032Z",
     "iopub.status.busy": "2022-07-02T01:24:28.360277Z",
     "iopub.status.idle": "2022-07-02T01:24:28.423008Z",
     "shell.execute_reply": "2022-07-02T01:24:28.421615Z",
     "shell.execute_reply.started": "2022-07-02T01:24:28.360985Z"
    }
   },
   "outputs": [],
   "source": [
    "# Generate images from noise data\n",
    "gen_imgs = gan.generator.predict(noise)\n",
    "print(gen_imgs.shape)"
   ]
  },
  {
   "cell_type": "code",
   "execution_count": 108,
   "metadata": {
    "execution": {
     "iopub.execute_input": "2022-07-02T01:24:28.881864Z",
     "iopub.status.busy": "2022-07-02T01:24:28.881438Z",
     "iopub.status.idle": "2022-07-02T01:24:28.887298Z",
     "shell.execute_reply": "2022-07-02T01:24:28.885964Z",
     "shell.execute_reply.started": "2022-07-02T01:24:28.881831Z"
    }
   },
   "outputs": [],
   "source": [
    "# Rescale image pixels in 0 - 1\n",
    "gen_imgs = 0.5 * gen_imgs + 0.5"
   ]
  },
  {
   "cell_type": "code",
   "execution_count": 109,
   "metadata": {
    "execution": {
     "iopub.execute_input": "2022-07-02T01:24:29.617125Z",
     "iopub.status.busy": "2022-07-02T01:24:29.616730Z",
     "iopub.status.idle": "2022-07-02T01:24:30.205277Z",
     "shell.execute_reply": "2022-07-02T01:24:30.203945Z",
     "shell.execute_reply.started": "2022-07-02T01:24:29.617092Z"
    }
   },
   "outputs": [],
   "source": [
    "# Show the generated paths\n",
    "\n",
    "fig, axs = plt.subplots(gen_samples_row, gen_samples_col, figsize=(9,10))\n",
    "cnt = 0\n",
    "fig.subplots_adjust(hspace=0.5)\n",
    "for i in range(gen_samples_row):\n",
    "    for j in range(gen_samples_col):\n",
    "        axs[i,j].imshow(gen_imgs[cnt, :,:,0], cmap=plt.cm.gray)\n",
    "        axs[i,j].axis('off')\n",
    "    autoAxis = axs[i,j].axis()\n",
    "    rec = Rectangle((autoAxis[0]-0.1,autoAxis[2]-0.2),(autoAxis[1]-autoAxis[0])+.2,(autoAxis[3]-autoAxis[2])+0.1,fill=False, lw=0.5)\n",
    "    rec = axs[i,j].add_patch(rec)\n",
    "    rec.set_clip_on(False)\n",
    "    cnt += 1\n",
    "plt.show()\n",
    "plt.close()"
   ]
  },
  {
   "cell_type": "markdown",
   "metadata": {},
   "source": [
    "*After generating paths, we need to identify the class of generated path so we can check if they are what we expected.*"
   ]
  },
  {
   "cell_type": "markdown",
   "metadata": {},
   "source": [
    "## Create Path Classifier"
   ]
  },
  {
   "cell_type": "code",
   "execution_count": 110,
   "metadata": {
    "execution": {
     "iopub.execute_input": "2022-07-02T01:24:32.528309Z",
     "iopub.status.busy": "2022-07-02T01:24:32.527917Z",
     "iopub.status.idle": "2022-07-02T01:24:32.540524Z",
     "shell.execute_reply": "2022-07-02T01:24:32.539310Z",
     "shell.execute_reply.started": "2022-07-02T01:24:32.528268Z"
    }
   },
   "outputs": [],
   "source": [
    "class PathClassifier:\n",
    "    \n",
    "    def __init__(self, num_pixels=13*19, num_classes=6):\n",
    "        self.model = self.build_classifier_base(num_pixels, num_classes)\n",
    "\n",
    "    def build_classifier_base(self, num_pixels, num_classes):\n",
    "        # fix random seed for reproducibility\n",
    "        seed = 7\n",
    "        np.random.seed(seed)\n",
    "        model = Sequential()\n",
    "        model.add(Dense(num_pixels, input_dim=num_pixels, kernel_initializer='normal', activation='relu'))\n",
    "        model.add(Dropout(0.2))\n",
    "        model.add(Dense(num_classes, kernel_initializer='normal', activation='softmax'))\n",
    "        # Compile model\n",
    "        model.compile(loss='categorical_crossentropy', optimizer='adam', metrics=['accuracy'])\n",
    "        return model\n",
    "\n",
    "    def train_model(self, X_train, y_train, eps=10, batch_size=20):\n",
    "        num_classes = y_train.shape[1]\n",
    "        num_pixels = X_train.shape[1]        \n",
    "        self.model.fit(X_train, y_train, epochs=eps, batch_size=batch_size, verbose=2)\n",
    "        return self.model\n",
    "\n",
    "    \n",
    "    def evaluate(self, X_test, y_test):        \n",
    "        scores = self.model.evaluate(X_test, y_test, verbose=0)\n",
    "        accuracy = scores[1] * 100\n",
    "        print(\"Classification accuracy: %.2f%%\" % accuracy)\n",
    "        return accuracy"
   ]
  },
  {
   "cell_type": "markdown",
   "metadata": {},
   "source": [
    "## Train & Evaluate the path classifier"
   ]
  },
  {
   "cell_type": "code",
   "execution_count": 111,
   "metadata": {
    "execution": {
     "iopub.execute_input": "2022-07-02T01:24:34.283876Z",
     "iopub.status.busy": "2022-07-02T01:24:34.283022Z",
     "iopub.status.idle": "2022-07-02T01:24:35.027136Z",
     "shell.execute_reply": "2022-07-02T01:24:35.025767Z",
     "shell.execute_reply.started": "2022-07-02T01:24:34.283837Z"
    }
   },
   "outputs": [],
   "source": [
    "path_classifier = PathClassifier()\n",
    "lblEnc = LabelEncoder()\n",
    "labels = lblEnc.fit_transform(labels)\n",
    "\n",
    "num_pixels = data.shape[1] * data.shape[2]\n",
    "data = data.reshape(data.shape[0], num_pixels).astype('float32')\n",
    "labels = np_utils.to_categorical(labels)\n",
    "\n",
    "num_classes = labels.shape[1]\n",
    "\n",
    "lnx = int(len(data) * 0.7)\n",
    "X_train, X_test = data[:lnx], data[lnx:]\n",
    "y_train, y_test = labels[:lnx], labels[lnx:]\n",
    "\n",
    "path_classifier.train_model(X_train, y_train, eps=10, batch_size=i*10)"
   ]
  },
  {
   "cell_type": "code",
   "execution_count": 112,
   "metadata": {
    "execution": {
     "iopub.execute_input": "2022-07-02T01:24:35.029674Z",
     "iopub.status.busy": "2022-07-02T01:24:35.029318Z",
     "iopub.status.idle": "2022-07-02T01:24:35.231877Z",
     "shell.execute_reply": "2022-07-02T01:24:35.230758Z",
     "shell.execute_reply.started": "2022-07-02T01:24:35.029639Z"
    }
   },
   "outputs": [],
   "source": [
    "# Evaluation\n",
    "path_classifier.evaluate(X_test, y_test)"
   ]
  },
  {
   "cell_type": "code",
   "execution_count": 113,
   "metadata": {
    "execution": {
     "iopub.execute_input": "2022-07-02T01:24:36.531804Z",
     "iopub.status.busy": "2022-07-02T01:24:36.531067Z",
     "iopub.status.idle": "2022-07-02T01:24:36.626999Z",
     "shell.execute_reply": "2022-07-02T01:24:36.625358Z",
     "shell.execute_reply.started": "2022-07-02T01:24:36.531676Z"
    }
   },
   "outputs": [],
   "source": [
    "# Now we can identify the class of generated paths\n",
    "\n",
    "gen_imgs2 = gen_imgs.reshape(gen_imgs.shape[0], gen_imgs.shape[1]*gen_imgs.shape[2]).astype('float32')\n",
    "classes = path_classifier.model.predict(gen_imgs2)\n",
    "classes = np.argmax(classes, axis=1)"
   ]
  },
  {
   "cell_type": "code",
   "execution_count": 114,
   "metadata": {
    "execution": {
     "iopub.execute_input": "2022-07-02T01:24:39.194412Z",
     "iopub.status.busy": "2022-07-02T01:24:39.193215Z",
     "iopub.status.idle": "2022-07-02T01:24:39.779135Z",
     "shell.execute_reply": "2022-07-02T01:24:39.778247Z",
     "shell.execute_reply.started": "2022-07-02T01:24:39.194364Z"
    }
   },
   "outputs": [],
   "source": [
    "# Draw generated paths and their class label\n",
    "\n",
    "fig, axs = plt.subplots(gen_samples_row, gen_samples_col, figsize=(9,10))\n",
    "cnt = 0\n",
    "fig.subplots_adjust(hspace=0.5)\n",
    "for i in range(gen_samples_row):\n",
    "    for j in range(gen_samples_col):\n",
    "        axs[i,j].imshow(gen_imgs[cnt, :,:,0], cmap=plt.cm.gray)\n",
    "        axs[i,j].set_title('class ' + str(classes[cnt]))\n",
    "        axs[i,j].axis('off')\n",
    "    autoAxis = axs[i,j].axis()\n",
    "    rec = Rectangle((autoAxis[0]-0.1,autoAxis[2]-0.2),(autoAxis[1]-autoAxis[0])+.2,(autoAxis[3]-autoAxis[2])+0.1,fill=False, lw=0.5)\n",
    "    rec = axs[i,j].add_patch(rec)\n",
    "    rec.set_clip_on(False)\n",
    "    cnt += 1\n",
    "plt.show()\n",
    "plt.close()"
   ]
  }
 ],
 "metadata": {
  "kernelspec": {
   "display_name": "Python 3",
   "language": "python",
   "name": "python3"
  },
  "language_info": {
   "codemirror_mode": {
    "name": "ipython",
    "version": 3
   },
   "file_extension": ".py",
   "mimetype": "text/x-python",
   "name": "python",
   "nbconvert_exporter": "python",
   "pygments_lexer": "ipython3",
   "version": "3.7.3"
  }
 },
 "nbformat": 4,
 "nbformat_minor": 4
}
